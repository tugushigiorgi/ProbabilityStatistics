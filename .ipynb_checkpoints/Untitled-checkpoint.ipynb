{
 "cells": [
  {
   "cell_type": "code",
   "execution_count": 3,
   "id": "3a2f2d11",
   "metadata": {},
   "outputs": [],
   "source": [
    "import pandas as pd\n",
    "import numpy as np\n",
    "import warnings\n",
    "\n",
    "from scipy.stats import norm\n",
    "warnings.filterwarnings(\"ignore\")"
   ]
  },
  {
   "cell_type": "code",
   "execution_count": 4,
   "id": "492bbdef",
   "metadata": {},
   "outputs": [
    {
     "data": {
      "text/html": [
       "<div>\n",
       "<style scoped>\n",
       "    .dataframe tbody tr th:only-of-type {\n",
       "        vertical-align: middle;\n",
       "    }\n",
       "\n",
       "    .dataframe tbody tr th {\n",
       "        vertical-align: top;\n",
       "    }\n",
       "\n",
       "    .dataframe thead th {\n",
       "        text-align: right;\n",
       "    }\n",
       "</style>\n",
       "<table border=\"1\" class=\"dataframe\">\n",
       "  <thead>\n",
       "    <tr style=\"text-align: right;\">\n",
       "      <th></th>\n",
       "      <th>Loan_ID</th>\n",
       "      <th>Gender</th>\n",
       "      <th>Married</th>\n",
       "      <th>Dependents</th>\n",
       "      <th>Education</th>\n",
       "      <th>Self_Employed</th>\n",
       "      <th>ApplicantIncome</th>\n",
       "      <th>LoanAmount</th>\n",
       "      <th>Loan_Amount_Term</th>\n",
       "      <th>Credit_History</th>\n",
       "      <th>Property_Area</th>\n",
       "      <th>Loan_Status</th>\n",
       "    </tr>\n",
       "  </thead>\n",
       "  <tbody>\n",
       "    <tr>\n",
       "      <th>0</th>\n",
       "      <td>LP001002</td>\n",
       "      <td>Male</td>\n",
       "      <td>No</td>\n",
       "      <td>0</td>\n",
       "      <td>Graduate</td>\n",
       "      <td>No</td>\n",
       "      <td>5849</td>\n",
       "      <td>NaN</td>\n",
       "      <td>360.0</td>\n",
       "      <td>1.0</td>\n",
       "      <td>Urban</td>\n",
       "      <td>Y</td>\n",
       "    </tr>\n",
       "    <tr>\n",
       "      <th>1</th>\n",
       "      <td>LP001003</td>\n",
       "      <td>Male</td>\n",
       "      <td>Yes</td>\n",
       "      <td>1</td>\n",
       "      <td>Graduate</td>\n",
       "      <td>No</td>\n",
       "      <td>4583</td>\n",
       "      <td>128.0</td>\n",
       "      <td>360.0</td>\n",
       "      <td>1.0</td>\n",
       "      <td>Rural</td>\n",
       "      <td>N</td>\n",
       "    </tr>\n",
       "    <tr>\n",
       "      <th>2</th>\n",
       "      <td>LP001005</td>\n",
       "      <td>Male</td>\n",
       "      <td>Yes</td>\n",
       "      <td>0</td>\n",
       "      <td>Graduate</td>\n",
       "      <td>Yes</td>\n",
       "      <td>3000</td>\n",
       "      <td>66.0</td>\n",
       "      <td>360.0</td>\n",
       "      <td>1.0</td>\n",
       "      <td>Urban</td>\n",
       "      <td>Y</td>\n",
       "    </tr>\n",
       "    <tr>\n",
       "      <th>3</th>\n",
       "      <td>LP001006</td>\n",
       "      <td>Male</td>\n",
       "      <td>Yes</td>\n",
       "      <td>0</td>\n",
       "      <td>Not Graduate</td>\n",
       "      <td>No</td>\n",
       "      <td>2583</td>\n",
       "      <td>120.0</td>\n",
       "      <td>360.0</td>\n",
       "      <td>1.0</td>\n",
       "      <td>Urban</td>\n",
       "      <td>Y</td>\n",
       "    </tr>\n",
       "    <tr>\n",
       "      <th>4</th>\n",
       "      <td>LP001008</td>\n",
       "      <td>Male</td>\n",
       "      <td>No</td>\n",
       "      <td>0</td>\n",
       "      <td>Graduate</td>\n",
       "      <td>No</td>\n",
       "      <td>6000</td>\n",
       "      <td>141.0</td>\n",
       "      <td>360.0</td>\n",
       "      <td>1.0</td>\n",
       "      <td>Urban</td>\n",
       "      <td>Y</td>\n",
       "    </tr>\n",
       "    <tr>\n",
       "      <th>...</th>\n",
       "      <td>...</td>\n",
       "      <td>...</td>\n",
       "      <td>...</td>\n",
       "      <td>...</td>\n",
       "      <td>...</td>\n",
       "      <td>...</td>\n",
       "      <td>...</td>\n",
       "      <td>...</td>\n",
       "      <td>...</td>\n",
       "      <td>...</td>\n",
       "      <td>...</td>\n",
       "      <td>...</td>\n",
       "    </tr>\n",
       "    <tr>\n",
       "      <th>609</th>\n",
       "      <td>LP002978</td>\n",
       "      <td>Female</td>\n",
       "      <td>No</td>\n",
       "      <td>0</td>\n",
       "      <td>Graduate</td>\n",
       "      <td>No</td>\n",
       "      <td>2900</td>\n",
       "      <td>71.0</td>\n",
       "      <td>360.0</td>\n",
       "      <td>1.0</td>\n",
       "      <td>Rural</td>\n",
       "      <td>Y</td>\n",
       "    </tr>\n",
       "    <tr>\n",
       "      <th>610</th>\n",
       "      <td>LP002979</td>\n",
       "      <td>Male</td>\n",
       "      <td>Yes</td>\n",
       "      <td>3+</td>\n",
       "      <td>Graduate</td>\n",
       "      <td>No</td>\n",
       "      <td>4106</td>\n",
       "      <td>40.0</td>\n",
       "      <td>180.0</td>\n",
       "      <td>1.0</td>\n",
       "      <td>Rural</td>\n",
       "      <td>Y</td>\n",
       "    </tr>\n",
       "    <tr>\n",
       "      <th>611</th>\n",
       "      <td>LP002983</td>\n",
       "      <td>Male</td>\n",
       "      <td>Yes</td>\n",
       "      <td>1</td>\n",
       "      <td>Graduate</td>\n",
       "      <td>No</td>\n",
       "      <td>8072</td>\n",
       "      <td>253.0</td>\n",
       "      <td>360.0</td>\n",
       "      <td>1.0</td>\n",
       "      <td>Urban</td>\n",
       "      <td>Y</td>\n",
       "    </tr>\n",
       "    <tr>\n",
       "      <th>612</th>\n",
       "      <td>LP002984</td>\n",
       "      <td>Male</td>\n",
       "      <td>Yes</td>\n",
       "      <td>2</td>\n",
       "      <td>Graduate</td>\n",
       "      <td>No</td>\n",
       "      <td>7583</td>\n",
       "      <td>187.0</td>\n",
       "      <td>360.0</td>\n",
       "      <td>1.0</td>\n",
       "      <td>Urban</td>\n",
       "      <td>Y</td>\n",
       "    </tr>\n",
       "    <tr>\n",
       "      <th>613</th>\n",
       "      <td>LP002990</td>\n",
       "      <td>Female</td>\n",
       "      <td>No</td>\n",
       "      <td>0</td>\n",
       "      <td>Graduate</td>\n",
       "      <td>Yes</td>\n",
       "      <td>4583</td>\n",
       "      <td>133.0</td>\n",
       "      <td>360.0</td>\n",
       "      <td>0.0</td>\n",
       "      <td>Semiurban</td>\n",
       "      <td>N</td>\n",
       "    </tr>\n",
       "  </tbody>\n",
       "</table>\n",
       "<p>614 rows × 12 columns</p>\n",
       "</div>"
      ],
      "text/plain": [
       "      Loan_ID  Gender Married Dependents     Education Self_Employed  \\\n",
       "0    LP001002    Male      No          0      Graduate            No   \n",
       "1    LP001003    Male     Yes          1      Graduate            No   \n",
       "2    LP001005    Male     Yes          0      Graduate           Yes   \n",
       "3    LP001006    Male     Yes          0  Not Graduate            No   \n",
       "4    LP001008    Male      No          0      Graduate            No   \n",
       "..        ...     ...     ...        ...           ...           ...   \n",
       "609  LP002978  Female      No          0      Graduate            No   \n",
       "610  LP002979    Male     Yes         3+      Graduate            No   \n",
       "611  LP002983    Male     Yes          1      Graduate            No   \n",
       "612  LP002984    Male     Yes          2      Graduate            No   \n",
       "613  LP002990  Female      No          0      Graduate           Yes   \n",
       "\n",
       "     ApplicantIncome  LoanAmount  Loan_Amount_Term  Credit_History  \\\n",
       "0               5849         NaN             360.0             1.0   \n",
       "1               4583       128.0             360.0             1.0   \n",
       "2               3000        66.0             360.0             1.0   \n",
       "3               2583       120.0             360.0             1.0   \n",
       "4               6000       141.0             360.0             1.0   \n",
       "..               ...         ...               ...             ...   \n",
       "609             2900        71.0             360.0             1.0   \n",
       "610             4106        40.0             180.0             1.0   \n",
       "611             8072       253.0             360.0             1.0   \n",
       "612             7583       187.0             360.0             1.0   \n",
       "613             4583       133.0             360.0             0.0   \n",
       "\n",
       "    Property_Area Loan_Status  \n",
       "0           Urban           Y  \n",
       "1           Rural           N  \n",
       "2           Urban           Y  \n",
       "3           Urban           Y  \n",
       "4           Urban           Y  \n",
       "..            ...         ...  \n",
       "609         Rural           Y  \n",
       "610         Rural           Y  \n",
       "611         Urban           Y  \n",
       "612         Urban           Y  \n",
       "613     Semiurban           N  \n",
       "\n",
       "[614 rows x 12 columns]"
      ]
     },
     "execution_count": 4,
     "metadata": {},
     "output_type": "execute_result"
    }
   ],
   "source": [
    "df=pd.read_csv(\"LoanStatus.csv\")\n",
    "df"
   ]
  },
  {
   "cell_type": "code",
   "execution_count": 14,
   "id": "66b214d2",
   "metadata": {},
   "outputs": [
    {
     "name": "stdout",
     "output_type": "stream",
     "text": [
      "Mean of Applicants Incomes and LoanAmount\n",
      "ApplicantIncome    5403.459283\n",
      "LoanAmount          146.412162\n",
      "dtype: float64\n",
      "-----\n",
      "Median of Applicants Incomes and LoanAmount\n",
      "ApplicantIncome    3812.5\n",
      "LoanAmount          128.0\n",
      "dtype: float64\n",
      "-----\n",
      "standart difinition of Applicants Incomes and LoanAmount\n",
      "ApplicantIncome    6109.041673\n",
      "LoanAmount           85.587325\n",
      "dtype: float64\n",
      "-----\n",
      "Mode of Applicants Incomes and LoanAmount\n",
      "   ApplicantIncome  LoanAmount\n",
      "0             2500       120.0\n"
     ]
    }
   ],
   "source": [
    "statisticsData = df[['ApplicantIncome', 'LoanAmount']] \n",
    "mean=statisticsData.mean()\n",
    "median=statisticsData.median()\n",
    "std=statisticsData.std()\n",
    "mode=statisticsData.mode() \n",
    "#1.1\n",
    "print(\"Mean of Applicants Incomes and LoanAmount\")\n",
    "print(mean)\n",
    "print(\"-----\")\n",
    "print(\"Median of Applicants Incomes and LoanAmount\")\n",
    "print(median)\n",
    "print(\"-----\")\n",
    "print(\"standart difinition of Applicants Incomes and LoanAmount\")\n",
    "print(std)\n",
    "print(\"-----\")\n",
    "print(\"Mode of Applicants Incomes and LoanAmount\")\n",
    "print(mode)\n",
    "\n",
    "\n"
   ]
  },
  {
   "cell_type": "code",
   "execution_count": 15,
   "id": "6c226814",
   "metadata": {},
   "outputs": [
    {
     "name": "stdout",
     "output_type": "stream",
     "text": [
      "Missing values Count in Each of Column\n"
     ]
    },
    {
     "data": {
      "text/plain": [
       "Loan_ID              0\n",
       "Gender              13\n",
       "Married              3\n",
       "Dependents          15\n",
       "Education            0\n",
       "Self_Employed       32\n",
       "ApplicantIncome      0\n",
       "LoanAmount          22\n",
       "Loan_Amount_Term    14\n",
       "Credit_History      50\n",
       "Property_Area        0\n",
       "Loan_Status          0\n",
       "dtype: int64"
      ]
     },
     "execution_count": 15,
     "metadata": {},
     "output_type": "execute_result"
    }
   ],
   "source": [
    "#1.2\n",
    "print(\"Missing values Count in Each of Column\")\n",
    "missing_values = df.isnull().sum()\n",
    "missing_values"
   ]
  },
  {
   "cell_type": "code",
   "execution_count": 19,
   "id": "d9ab1de7",
   "metadata": {},
   "outputs": [
    {
     "data": {
      "text/plain": [
       "68.72964169381108"
      ]
     },
     "execution_count": 19,
     "metadata": {},
     "output_type": "execute_result"
    }
   ],
   "source": [
    "#2.1\n",
    "#the probability of getting a loan \n",
    "#calculates the probability of getting a loan by dividing the number\n",
    "#of approved loans by the total number of loans in the dataset.\n",
    "\n",
    "total_loans = len(df)\n",
    "approved_loans = len(df[df['Loan_Status'] == 'Y'])\n",
    "probability_loan_approval = approved_loans / total_loans\n",
    "probability_loan_approval*100\n",
    "#in Percentage  it's a 68.72% Chance if Loan Status is True\n",
    "\n"
   ]
  },
  {
   "cell_type": "code",
   "execution_count": 21,
   "id": "d9e32195",
   "metadata": {},
   "outputs": [
    {
     "data": {
      "text/plain": [
       "79.57894736842105"
      ]
     },
     "execution_count": 21,
     "metadata": {},
     "output_type": "execute_result"
    }
   ],
   "source": [
    "#2.2\n",
    "#the probability of getting a loan when Client has good Credit history \n",
    "#number of approved loans with good credit history \n",
    "good_credit_loans = len(df[(df['Loan_Status'] == 'Y') & (df['Credit_History'] == 1)])\n",
    "#calculate total client quantity with Good Credit history \n",
    "total_good_credit_clients = len(df[df['Credit_History'] == 1])\n",
    "#This code calculates the probability of getting a loan\n",
    "#for clients with good credit history by dividing \n",
    "#the number of approved loans with good credit \n",
    "#history by the total number of clients with good credit history.\n",
    "probability_loan_with_good_credit = good_credit_loans / total_good_credit_clients\n",
    "\n",
    "probability_loan_with_good_credit*100\n",
    "\n"
   ]
  },
  {
   "cell_type": "code",
   "execution_count": 23,
   "id": "af073b25",
   "metadata": {},
   "outputs": [
    {
     "data": {
      "image/png": "[encoded data removed]",
      "text/plain": [
       "<Figure size 640x480 with 1 Axes>"
      ]
     },
     "metadata": {},
     "output_type": "display_data"
    }
   ],
   "source": [
    "#3.1\n",
    "import seaborn as sns\n",
    "import matplotlib.pyplot as plt\n",
    "\n",
    " \n",
    "\n",
    "#Distribution plot for the 'ApplicantIncome' column\n",
    "sns.distplot(df['ApplicantIncome'], kde=False)\n",
    "plt.title('Distribution of Applicant Income')\n",
    "plt.xlabel('Applicant Income')\n",
    "plt.ylabel('Frequency')\n",
    "plt.show()\n",
    "\n",
    "\n",
    "\n"
   ]
  },
  {
   "cell_type": "code",
   "execution_count": 26,
   "id": "a815cd2a",
   "metadata": {},
   "outputs": [
    {
     "data": {
      "image/png": "[encoded data removed]",
      "text/plain": [
       "<Figure size 640x480 with 1 Axes>"
      ]
     },
     "metadata": {},
     "output_type": "display_data"
    },
    {
     "name": "stdout",
     "output_type": "stream",
     "text": [
      "As we can see Loan Amount 100 Frequency is highest whichis more than 300\n",
      "Lowest Loan Amount is 700\n"
     ]
    }
   ],
   "source": [
    "#3.2\n",
    "plt.hist(df['LoanAmount'], bins=10, edgecolor='k')\n",
    "plt.title('Histogram of Loan Amount')\n",
    "plt.xlabel('Loan Amount')\n",
    "plt.ylabel('Frequency')\n",
    "plt.show()\n",
    "\n",
    "print(\"As we can see Loan Amount 100 Frequency is highest whichis more than 300\")\n",
    "print(\"Lowest Loan Amount is 700\")\n",
    "\n"
   ]
  },
  {
   "cell_type": "code",
   "execution_count": 29,
   "id": "4aedd08f",
   "metadata": {},
   "outputs": [
    {
     "name": "stdout",
     "output_type": "stream",
     "text": [
      "This is percentage of Customers with an income  less than 2 000 euros per month \n"
     ]
    },
    {
     "data": {
      "text/plain": [
       "28.872328177095575"
      ]
     },
     "execution_count": 29,
     "metadata": {},
     "output_type": "execute_result"
    }
   ],
   "source": [
    "from scipy.stats import norm\n",
    "#4.1\n",
    "# mean and standard deviation of the Applicant Income \n",
    "mean_income = df['ApplicantIncome'].mean()\n",
    "std_dev_income = df['ApplicantIncome'].std()\n",
    "\n",
    "# lets set limit value 2 000 (2,000 euros per month)\n",
    "limit_value = 2000\n",
    "\n",
    "# Calculating the cumulative probability with norm.cdf\n",
    "cumulative_probability = norm.cdf(limit_value, loc=mean_income, scale=std_dev_income)\n",
    "\n",
    "# lets Convert the cumulative probability to a percentage\n",
    "percentage_below_2000 = cumulative_probability * 100\n",
    "print(\"This is percentage of Customers with an income  less than 2 000 euros per month \")\n",
    "percentage_below_2000\n"
   ]
  },
  {
   "cell_type": "code",
   "execution_count": 30,
   "id": "27d47be7",
   "metadata": {},
   "outputs": [
    {
     "data": {
      "image/png": "[encoded data removed]",
      "text/plain": [
       "<Figure size 640x480 with 1 Axes>"
      ]
     },
     "metadata": {},
     "output_type": "display_data"
    }
   ],
   "source": [
    "#boxplot for the 'LoanAmount' field\n",
    "#5.1\n",
    "sns.boxplot(x='LoanAmount', data=df)\n",
    "plt.title('Box Plot of Loan Amount')\n",
    "plt.xlabel('Loan Amount')\n",
    "plt.show()\n"
   ]
  },
  {
   "cell_type": "code",
   "execution_count": 31,
   "id": "df72e711",
   "metadata": {},
   "outputs": [
    {
     "data": {
      "image/png": "[encoded data removed]",
      "text/plain": [
       "<Figure size 640x480 with 1 Axes>"
      ]
     },
     "metadata": {},
     "output_type": "display_data"
    }
   ],
   "source": [
    "#5.2\n",
    "#distribution plot for the 'ApplicantIncome' column\n",
    "sns.distplot(df['ApplicantIncome'], kde=False)\n",
    "plt.title('Distribution of Applicant Income')\n",
    "plt.xlabel('Applicant Income')\n",
    "plt.ylabel('Frequency')\n",
    "plt.show()\n"
   ]
  },
  {
   "cell_type": "code",
   "execution_count": 34,
   "id": "e70f4133",
   "metadata": {},
   "outputs": [
    {
     "name": "stdout",
     "output_type": "stream",
     "text": [
      "The p-value (0.0000) is less than the significance level (0.05), so we reject the null hypothesis.\n"
     ]
    }
   ],
   "source": [
    "#6.1\n",
    "from scipy.stats import ttest_1samp\n",
    "\n",
    "# lets use for the t test data of Applicant Income  and the hypothesized mean 10,000 Euro \n",
    "#to determine whether the mean income of loan applicants is significantly different from a certain value \n",
    "sample_data = df['ApplicantIncome']\n",
    "hypothesized_mean = 10000\n",
    "\n",
    "# Perform the one-sample t-test\n",
    "t_statistic, p_value = ttest_1samp(sample_data, hypothesized_mean)\n",
    "\n",
    "# Interpret the results\n",
    "\n",
    "\n",
    "#Null Hypothesis (H0): The mean income of loan applicants is equal to 10,000 euros.\n",
    "#Alternative Hypothesis (H1): The mean income of loan applicants is not equal to 10,000 euros.\n",
    "\n",
    "alpha = 0.05  # significance level\n",
    "if p_value < alpha:\n",
    "    print(f\"The p-value ({p_value:.4f}) is less than the significance level ({alpha}), so we reject the null hypothesis.\")\n",
    "else:\n",
    "    print(f\"The p-value ({p_value:.4f}) is greater than the significance level ({alpha}), so we fail to reject the null hypothesis.\")\n",
    "\n",
    "\n",
    "\n",
    "\n",
    "\n",
    "\n",
    "\n",
    "\n",
    "\n"
   ]
  },
  {
   "cell_type": "code",
   "execution_count": 35,
   "id": "e561f0f2",
   "metadata": {},
   "outputs": [
    {
     "name": "stdout",
     "output_type": "stream",
     "text": [
      "The p-value (0.0686) is greater than the significance level (0.05), so we fail to reject the null hypothesis.\n"
     ]
    }
   ],
   "source": [
    "#6.2\n",
    "#Two-Sample T-Test\n",
    "\n",
    "\n",
    "from scipy.stats import ttest_ind\n",
    "\n",
    "# for this test lets use  two samples (ApplicantIncome for male and female applicants)\n",
    "\n",
    "sample_male = df[df['Gender'] == 'Male']['ApplicantIncome']\n",
    "sample_female = df[df['Gender'] == 'Female']['ApplicantIncome']\n",
    "\n",
    "# lets pass that samples to Perform the two-sample t-test\n",
    "#equal_var=false : two samples are not assumed to be equal.\n",
    "t_statistic, p_value = ttest_ind(sample_male, sample_female, equal_var=False)\n",
    "\n",
    "\n",
    "#Null Hypothesis (H0): The mean incomes of male and female loan applicants are equal.\n",
    "#Alternative Hypothesis (H1): The mean incomes of male and female loan applicants are not equal.\n",
    "#Interpret the results\n",
    "\n",
    "\n",
    "alpha = 0.05  # significance level\n",
    "if p_value < alpha:\n",
    "    print(f\"The p-value ({p_value:.4f}) is less than the significance level ({alpha}), so we reject the null hypothesis.\")\n",
    "else:\n",
    "    print(f\"The p-value ({p_value:.4f}) is greater than the significance level ({alpha}), so we fail to reject the null hypothesis.\")\n",
    "\n"
   ]
  },
  {
   "cell_type": "code",
   "execution_count": null,
   "id": "efb16d5b",
   "metadata": {},
   "outputs": [],
   "source": []
  }
 ],
 "metadata": {
  "kernelspec": {
   "display_name": "Python 3 (ipykernel)",
   "language": "python",
   "name": "python3"
  },
  "language_info": {
   "codemirror_mode": {
    "name": "ipython",
    "version": 3
   },
   "file_extension": ".py",
   "mimetype": "text/x-python",
   "name": "python",
   "nbconvert_exporter": "python",
   "pygments_lexer": "ipython3",
   "version": "3.11.5"
  }
 },
 "nbformat": 4,
 "nbformat_minor": 5
}
